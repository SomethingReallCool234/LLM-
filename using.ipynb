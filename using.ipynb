{
 "cells": [
  {
   "cell_type": "code",
   "execution_count": null,
   "metadata": {},
   "outputs": [
    {
     "ename": "RuntimeError",
     "evalue": "Error(s) in loading state_dict for GPTModel:\n\tUnexpected key(s) in state_dict: \"trf_blocks.0.att.W_query.bias\", \"trf_blocks.0.att.W_key.bias\", \"trf_blocks.0.att.W_value.bias\", \"trf_blocks.1.att.W_query.bias\", \"trf_blocks.1.att.W_key.bias\", \"trf_blocks.1.att.W_value.bias\", \"trf_blocks.2.att.W_query.bias\", \"trf_blocks.2.att.W_key.bias\", \"trf_blocks.2.att.W_value.bias\", \"trf_blocks.3.att.W_query.bias\", \"trf_blocks.3.att.W_key.bias\", \"trf_blocks.3.att.W_value.bias\", \"trf_blocks.4.att.W_query.bias\", \"trf_blocks.4.att.W_key.bias\", \"trf_blocks.4.att.W_value.bias\", \"trf_blocks.5.att.W_query.bias\", \"trf_blocks.5.att.W_key.bias\", \"trf_blocks.5.att.W_value.bias\", \"trf_blocks.6.att.W_query.bias\", \"trf_blocks.6.att.W_key.bias\", \"trf_blocks.6.att.W_value.bias\", \"trf_blocks.7.att.W_query.bias\", \"trf_blocks.7.att.W_key.bias\", \"trf_blocks.7.att.W_value.bias\", \"trf_blocks.8.att.W_query.bias\", \"trf_blocks.8.att.W_key.bias\", \"trf_blocks.8.att.W_value.bias\", \"trf_blocks.9.att.W_query.bias\", \"trf_blocks.9.att.W_key.bias\", \"trf_blocks.9.att.W_value.bias\", \"trf_blocks.10.att.W_query.bias\", \"trf_blocks.10.att.W_key.bias\", \"trf_blocks.10.att.W_value.bias\", \"trf_blocks.11.att.W_query.bias\", \"trf_blocks.11.att.W_key.bias\", \"trf_blocks.11.att.W_value.bias\". ",
     "output_type": "error",
     "traceback": [
      "\u001b[31m---------------------------------------------------------------------------\u001b[39m",
      "\u001b[31mRuntimeError\u001b[39m                              Traceback (most recent call last)",
      "\u001b[36mCell\u001b[39m\u001b[36m \u001b[39m\u001b[32mIn[3]\u001b[39m\u001b[32m, line 18\u001b[39m\n\u001b[32m     15\u001b[39m tokenizer = tiktoken.get_encoding(\u001b[33m\"\u001b[39m\u001b[33mgpt2\u001b[39m\u001b[33m\"\u001b[39m)\n\u001b[32m     17\u001b[39m model = GPTModel(GPT_CONFIG)\n\u001b[32m---> \u001b[39m\u001b[32m18\u001b[39m \u001b[43mmodel\u001b[49m\u001b[43m.\u001b[49m\u001b[43mload_state_dict\u001b[49m\u001b[43m(\u001b[49m\u001b[43mtorch\u001b[49m\u001b[43m.\u001b[49m\u001b[43mload\u001b[49m\u001b[43m(\u001b[49m\u001b[33;43m\"\u001b[39;49m\u001b[33;43mchatbot_finetuned_gpt2.pth\u001b[39;49m\u001b[33;43m\"\u001b[39;49m\u001b[43m,\u001b[49m\u001b[43m \u001b[49m\u001b[43mmap_location\u001b[49m\u001b[43m=\u001b[49m\u001b[33;43m\"\u001b[39;49m\u001b[33;43mcpu\u001b[39;49m\u001b[33;43m\"\u001b[39;49m\u001b[43m)\u001b[49m\u001b[43m)\u001b[49m\n\u001b[32m     19\u001b[39m model.eval()\n",
      "\u001b[36mFile \u001b[39m\u001b[32mc:\\Users\\beast\\AppData\\Local\\Programs\\Python\\Python311\\Lib\\site-packages\\torch\\nn\\modules\\module.py:2593\u001b[39m, in \u001b[36mModule.load_state_dict\u001b[39m\u001b[34m(self, state_dict, strict, assign)\u001b[39m\n\u001b[32m   2585\u001b[39m         error_msgs.insert(\n\u001b[32m   2586\u001b[39m             \u001b[32m0\u001b[39m,\n\u001b[32m   2587\u001b[39m             \u001b[33m\"\u001b[39m\u001b[33mMissing key(s) in state_dict: \u001b[39m\u001b[38;5;132;01m{}\u001b[39;00m\u001b[33m. \u001b[39m\u001b[33m\"\u001b[39m.format(\n\u001b[32m   2588\u001b[39m                 \u001b[33m\"\u001b[39m\u001b[33m, \u001b[39m\u001b[33m\"\u001b[39m.join(\u001b[33mf\u001b[39m\u001b[33m'\u001b[39m\u001b[33m\"\u001b[39m\u001b[38;5;132;01m{\u001b[39;00mk\u001b[38;5;132;01m}\u001b[39;00m\u001b[33m\"\u001b[39m\u001b[33m'\u001b[39m \u001b[38;5;28;01mfor\u001b[39;00m k \u001b[38;5;129;01min\u001b[39;00m missing_keys)\n\u001b[32m   2589\u001b[39m             ),\n\u001b[32m   2590\u001b[39m         )\n\u001b[32m   2592\u001b[39m \u001b[38;5;28;01mif\u001b[39;00m \u001b[38;5;28mlen\u001b[39m(error_msgs) > \u001b[32m0\u001b[39m:\n\u001b[32m-> \u001b[39m\u001b[32m2593\u001b[39m     \u001b[38;5;28;01mraise\u001b[39;00m \u001b[38;5;167;01mRuntimeError\u001b[39;00m(\n\u001b[32m   2594\u001b[39m         \u001b[33m\"\u001b[39m\u001b[33mError(s) in loading state_dict for \u001b[39m\u001b[38;5;132;01m{}\u001b[39;00m\u001b[33m:\u001b[39m\u001b[38;5;130;01m\\n\u001b[39;00m\u001b[38;5;130;01m\\t\u001b[39;00m\u001b[38;5;132;01m{}\u001b[39;00m\u001b[33m\"\u001b[39m.format(\n\u001b[32m   2595\u001b[39m             \u001b[38;5;28mself\u001b[39m.\u001b[34m__class__\u001b[39m.\u001b[34m__name__\u001b[39m, \u001b[33m\"\u001b[39m\u001b[38;5;130;01m\\n\u001b[39;00m\u001b[38;5;130;01m\\t\u001b[39;00m\u001b[33m\"\u001b[39m.join(error_msgs)\n\u001b[32m   2596\u001b[39m         )\n\u001b[32m   2597\u001b[39m     )\n\u001b[32m   2598\u001b[39m \u001b[38;5;28;01mreturn\u001b[39;00m _IncompatibleKeys(missing_keys, unexpected_keys)\n",
      "\u001b[31mRuntimeError\u001b[39m: Error(s) in loading state_dict for GPTModel:\n\tUnexpected key(s) in state_dict: \"trf_blocks.0.att.W_query.bias\", \"trf_blocks.0.att.W_key.bias\", \"trf_blocks.0.att.W_value.bias\", \"trf_blocks.1.att.W_query.bias\", \"trf_blocks.1.att.W_key.bias\", \"trf_blocks.1.att.W_value.bias\", \"trf_blocks.2.att.W_query.bias\", \"trf_blocks.2.att.W_key.bias\", \"trf_blocks.2.att.W_value.bias\", \"trf_blocks.3.att.W_query.bias\", \"trf_blocks.3.att.W_key.bias\", \"trf_blocks.3.att.W_value.bias\", \"trf_blocks.4.att.W_query.bias\", \"trf_blocks.4.att.W_key.bias\", \"trf_blocks.4.att.W_value.bias\", \"trf_blocks.5.att.W_query.bias\", \"trf_blocks.5.att.W_key.bias\", \"trf_blocks.5.att.W_value.bias\", \"trf_blocks.6.att.W_query.bias\", \"trf_blocks.6.att.W_key.bias\", \"trf_blocks.6.att.W_value.bias\", \"trf_blocks.7.att.W_query.bias\", \"trf_blocks.7.att.W_key.bias\", \"trf_blocks.7.att.W_value.bias\", \"trf_blocks.8.att.W_query.bias\", \"trf_blocks.8.att.W_key.bias\", \"trf_blocks.8.att.W_value.bias\", \"trf_blocks.9.att.W_query.bias\", \"trf_blocks.9.att.W_key.bias\", \"trf_blocks.9.att.W_value.bias\", \"trf_blocks.10.att.W_query.bias\", \"trf_blocks.10.att.W_key.bias\", \"trf_blocks.10.att.W_value.bias\", \"trf_blocks.11.att.W_query.bias\", \"trf_blocks.11.att.W_key.bias\", \"trf_blocks.11.att.W_value.bias\". "
     ]
    }
   ],
   "source": [
    "from prev import GPTModel, generate\n",
    "import tiktoken\n",
    "import torch\n",
    "\n",
    "GPT_CONFIG = {\n",
    "    \"vocab_size\": settings[\"n_vocab\"],\n",
    "    \"context_length\": settings[\"n_ctx\"],\n",
    "    \"emb_dim\": settings[\"n_embd\"],\n",
    "    \"n_heads\": settings[\"n_head\"],\n",
    "    \"n_layers\": settings[\"n_layer\"],\n",
    "    \"drop_rate\": 0.1,\n",
    "    \"qkv_bias\": True\n",
    "}\n",
    "\n",
    "tokenizer = tiktoken.get_encoding(\"gpt2\")\n",
    "\n",
    "model = GPTModel(GPT_CONFIG)\n",
    "model.load_state_dict(torch.load(\"chatbot_finetuned_gpt2.pth\", map_location=\"cpu\"))\n",
    "model.eval()\n"
   ]
  },
  {
   "cell_type": "code",
   "execution_count": null,
   "metadata": {},
   "outputs": [],
   "source": []
  }
 ],
 "metadata": {
  "kernelspec": {
   "display_name": "Python 3",
   "language": "python",
   "name": "python3"
  },
  "language_info": {
   "codemirror_mode": {
    "name": "ipython",
    "version": 3
   },
   "file_extension": ".py",
   "mimetype": "text/x-python",
   "name": "python",
   "nbconvert_exporter": "python",
   "pygments_lexer": "ipython3",
   "version": "3.11.0"
  }
 },
 "nbformat": 4,
 "nbformat_minor": 2
}
